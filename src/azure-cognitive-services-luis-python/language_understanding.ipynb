{
 "metadata": {
  "language_info": {
   "codemirror_mode": {
    "name": "ipython",
    "version": 3
   },
   "file_extension": ".py",
   "mimetype": "text/x-python",
   "name": "python",
   "nbconvert_exporter": "python",
   "pygments_lexer": "ipython3",
   "version": "3.8.5-final"
  },
  "orig_nbformat": 2,
  "kernelspec": {
   "name": "python3",
   "display_name": "Python 3.8.5 32-bit",
   "metadata": {
    "interpreter": {
     "hash": "51c3f01bf447baff25274d03ed6de26a7d16ffbc58ea7558f7faace83c35fc62"
    }
   }
  }
 },
 "nbformat": 4,
 "nbformat_minor": 2,
 "cells": [
  {
   "cell_type": "code",
   "execution_count": 73,
   "metadata": {},
   "outputs": [
    {
     "output_type": "stream",
     "name": "stdout",
     "text": [
      "Note: you may need to restart the kernel to use updated packages.\n",
      "'C:\\Users\\David' is not recognized as an internal or external command,\n",
      "operable program or batch file.\n"
     ]
    }
   ],
   "source": [
    "pip install -r requirements.txt"
   ]
  },
  {
   "cell_type": "code",
   "execution_count": 2,
   "metadata": {},
   "outputs": [],
   "source": [
    "from azure.cognitiveservices.language.luis.authoring import LUISAuthoringClient\n",
    "from azure.cognitiveservices.language.luis.runtime import LUISRuntimeClient\n",
    "from msrest.authentication import CognitiveServicesCredentials\n",
    "from functools import reduce\n",
    "\n",
    "import json, time"
   ]
  },
  {
   "cell_type": "code",
   "execution_count": 3,
   "metadata": {},
   "outputs": [],
   "source": [
    "AUTHORING_KEY = \"<your authoring key>\"\n",
    "PREDICTION_KEY = \"<your prediction key>\"\n",
    "\n",
    "AUTHORING_RESOURCE_NAME = \"<your authoring resource name>\"\n",
    "PREDICTION_RESOURCE_NAME = \"<your prediction resource name>\""
   ]
  },
  {
   "cell_type": "code",
   "execution_count": 7,
   "metadata": {},
   "outputs": [],
   "source": [
    "authoringEndpoint = f'https://{AUTHORING_RESOURCE_NAME}.cognitiveservices.azure.com/'\n",
    "predictionEndpoint = f'https://{PREDICTION_RESOURCE_NAME}.cognitiveservices.azure.com/'\n",
    "\n",
    "appName = \"Contoso Pizza Company\"\n",
    "versionId = \"0.1\"\n",
    "intentName = \"OrderPizza\""
   ]
  },
  {
   "source": [
    "## Authenticate the client"
   ],
   "cell_type": "markdown",
   "metadata": {}
  },
  {
   "cell_type": "code",
   "execution_count": 14,
   "metadata": {},
   "outputs": [],
   "source": [
    "client = LUISAuthoringClient(authoringEndpoint, CognitiveServicesCredentials(AUTHORING_KEY))"
   ]
  },
  {
   "source": [
    "## Create a LUIS app"
   ],
   "cell_type": "markdown",
   "metadata": {}
  },
  {
   "cell_type": "code",
   "execution_count": 15,
   "metadata": {},
   "outputs": [
    {
     "output_type": "stream",
     "name": "stdout",
     "text": [
      "Created LUIS app with ID 3c446098-2b8b-402f-9191-83534a1050e0\n"
     ]
    }
   ],
   "source": [
    "# define app basics\n",
    "appDefinition = {\n",
    "    \"name\": appName,\n",
    "    \"initial_version_id\": versionId,\n",
    "    \"culture\": \"en-us\"\n",
    "}\n",
    "\n",
    "# create app\n",
    "app_id = client.apps.add(appDefinition)\n",
    "\n",
    "# get app id - necessary for all other changes\n",
    "print(\"Created LUIS app with ID {}\".format(app_id))"
   ]
  },
  {
   "source": [
    "### Create intent for the app"
   ],
   "cell_type": "markdown",
   "metadata": {}
  },
  {
   "cell_type": "code",
   "execution_count": 16,
   "metadata": {},
   "outputs": [
    {
     "output_type": "execute_result",
     "data": {
      "text/plain": [
       "'e8d368b2-a8aa-4436-a507-5f7faf0b1bbd'"
      ]
     },
     "metadata": {},
     "execution_count": 16
    }
   ],
   "source": [
    "client.model.add_intent(app_id, versionId, intentName)"
   ]
  },
  {
   "source": [
    "### Create entities for the app"
   ],
   "cell_type": "markdown",
   "metadata": {}
  },
  {
   "cell_type": "code",
   "execution_count": 18,
   "metadata": {},
   "outputs": [],
   "source": [
    "def get_grandchild_id(model, childName, grandChildName):\n",
    "    \n",
    "    theseChildren = next(filter((lambda child: child.name == childName), model.children))\n",
    "    theseGrandchildren = next(filter((lambda child: child.name == grandChildName), theseChildren.children))\n",
    "    \n",
    "    grandChildId = theseGrandchildren.id\n",
    "    \n",
    "    return grandChildId"
   ]
  },
  {
   "cell_type": "code",
   "execution_count": 19,
   "metadata": {},
   "outputs": [
    {
     "output_type": "execute_result",
     "data": {
      "text/plain": [
       "<azure.cognitiveservices.language.luis.authoring.models._models_py3.OperationStatus at 0x12f089e8>"
      ]
     },
     "metadata": {},
     "execution_count": 19
    }
   ],
   "source": [
    "# Add Prebuilt entity\n",
    "client.model.add_prebuilt(app_id, versionId, prebuilt_extractor_names=[\"number\"])\n",
    "\n",
    "# define machine-learned entity\n",
    "mlEntityDefinition = [\n",
    "{\n",
    "    \"name\": \"Pizza\",\n",
    "    \"children\": [\n",
    "        { \"name\": \"Quantity\" },\n",
    "        { \"name\": \"Type\" },\n",
    "        { \"name\": \"Size\" }\n",
    "    ]\n",
    "},\n",
    "{\n",
    "    \"name\": \"Toppings\",\n",
    "    \"children\": [\n",
    "        { \"name\": \"Type\" },\n",
    "        { \"name\": \"Quantity\" }\n",
    "    ]\n",
    "}]\n",
    "\n",
    "# add entity to app\n",
    "modelId = client.model.add_entity(app_id, versionId, name=\"Pizza order\", children=mlEntityDefinition)\n",
    "\n",
    "# define phraselist - add phrases as significant vocabulary to app\n",
    "phraseList = {\n",
    "    \"enabledForAllModels\": False,\n",
    "    \"isExchangeable\": True,\n",
    "    \"name\": \"QuantityPhraselist\",\n",
    "    \"phrases\": \"few,more,extra\"\n",
    "}\n",
    "\n",
    "# add phrase list to app\n",
    "phraseListId = client.features.add_phrase_list(app_id, versionId, phraseList)\n",
    "\n",
    "# Get entity and subentities\n",
    "modelObject = client.model.get_entity(app_id, versionId, modelId)\n",
    "toppingQuantityId = get_grandchild_id(modelObject, \"Toppings\", \"Quantity\")\n",
    "pizzaQuantityId = get_grandchild_id(modelObject, \"Pizza\", \"Quantity\")\n",
    "\n",
    "# add model as feature to subentity model\n",
    "prebuiltFeatureRequiredDefinition = { \"model_name\": \"number\", \"is_required\": True }\n",
    "client.features.add_entity_feature(app_id, versionId, pizzaQuantityId, prebuiltFeatureRequiredDefinition)\n",
    "\n",
    "# add model as feature to subentity model\n",
    "prebuiltFeatureNotRequiredDefinition = { \"model_name\": \"number\" }\n",
    "client.features.add_entity_feature(app_id, versionId, toppingQuantityId, prebuiltFeatureNotRequiredDefinition)\n",
    "\n",
    "# add phrase list as feature to subentity model\n",
    "phraseListFeatureDefinition = { \"feature_name\": \"QuantityPhraselist\", \"model_name\": None }\n",
    "client.features.add_entity_feature(app_id, versionId, toppingQuantityId, phraseListFeatureDefinition)"
   ]
  },
  {
   "source": [
    "### Add example utterance to intent"
   ],
   "cell_type": "markdown",
   "metadata": {}
  },
  {
   "source": [
    "![Labeled Example](https://docs.microsoft.com/en-us/azure/cognitive-services/luis/media/quickstart-sdk/labeled-example-machine-learned-entity.png)"
   ],
   "cell_type": "markdown",
   "metadata": {}
  },
  {
   "cell_type": "code",
   "execution_count": 20,
   "metadata": {},
   "outputs": [
    {
     "output_type": "stream",
     "name": "stdout",
     "text": [
      "Labeled Example Utterance: {'text': 'I want two small seafood pizzas with extra cheese.', 'intentName': 'OrderPizza', 'entityLabels': [{'startCharIndex': 7, 'endCharIndex': 48, 'entityName': 'Pizza order', 'children': [{'startCharIndex': 7, 'endCharIndex': 30, 'entityName': 'Pizza', 'children': [{'startCharIndex': 7, 'endCharIndex': 9, 'entityName': 'Quantity'}, {'startCharIndex': 11, 'endCharIndex': 15, 'entityName': 'Size'}, {'startCharIndex': 17, 'endCharIndex': 23, 'entityName': 'Type'}]}, {'startCharIndex': 37, 'endCharIndex': 48, 'entityName': 'Toppings', 'children': [{'startCharIndex': 37, 'endCharIndex': 41, 'entityName': 'Quantity'}, {'startCharIndex': 43, 'endCharIndex': 48, 'entityName': 'Type'}]}]}]}\n"
     ]
    },
    {
     "output_type": "execute_result",
     "data": {
      "text/plain": [
       "<azure.cognitiveservices.language.luis.authoring.models._models_py3.LabelExampleResponse at 0x12ef67c0>"
      ]
     },
     "metadata": {},
     "execution_count": 20
    }
   ],
   "source": [
    "# Define labeled example\n",
    "labeledExampleUtteranceWithMLEntity = {\n",
    "    \"text\": \"I want two small seafood pizzas with extra cheese.\",\n",
    "    \"intentName\": intentName,\n",
    "    \"entityLabels\": [\n",
    "        {\n",
    "            \"startCharIndex\": 7,\n",
    "            \"endCharIndex\": 48,\n",
    "            \"entityName\": \"Pizza order\",\n",
    "            \"children\": [\n",
    "                {\n",
    "                    \"startCharIndex\": 7,\n",
    "                    \"endCharIndex\": 30,\n",
    "                    \"entityName\": \"Pizza\",\n",
    "                    \"children\": [\n",
    "                        {\n",
    "                            \"startCharIndex\": 7,\n",
    "                            \"endCharIndex\": 9,\n",
    "                            \"entityName\": \"Quantity\"\n",
    "                        },\n",
    "                        {\n",
    "                            \"startCharIndex\": 11,\n",
    "                            \"endCharIndex\": 15,\n",
    "                            \"entityName\": \"Size\"\n",
    "                        },\n",
    "                        {\n",
    "                            \"startCharIndex\": 17,\n",
    "                            \"endCharIndex\": 23,\n",
    "                            \"entityName\": \"Type\"\n",
    "                        }]\n",
    "                },\n",
    "                {\n",
    "                    \"startCharIndex\": 37,\n",
    "                    \"endCharIndex\": 48,\n",
    "                    \"entityName\": \"Toppings\",\n",
    "                    \"children\": [\n",
    "                        {\n",
    "                            \"startCharIndex\": 37,\n",
    "                            \"endCharIndex\": 41,\n",
    "                            \"entityName\": \"Quantity\"\n",
    "                        },\n",
    "                        {\n",
    "                            \"startCharIndex\": 43,\n",
    "                            \"endCharIndex\": 48,\n",
    "                            \"entityName\": \"Type\"\n",
    "                        }]\n",
    "                }\n",
    "            ]\n",
    "        }\n",
    "    ]\n",
    "}\n",
    "\n",
    "print(\"Labeled Example Utterance:\", labeledExampleUtteranceWithMLEntity)\n",
    "\n",
    "# Add an example for the entity.\n",
    "# Enable nested children to allow using multiple models with the same name.\n",
    "# The quantity subentity and the phraselist could have the same exact name if this is set to True\n",
    "client.examples.add(app_id, versionId, labeledExampleUtteranceWithMLEntity, { \"enableNestedChildren\": True })"
   ]
  },
  {
   "source": [
    "### Train the app"
   ],
   "cell_type": "markdown",
   "metadata": {}
  },
  {
   "cell_type": "code",
   "execution_count": 21,
   "metadata": {},
   "outputs": [
    {
     "output_type": "stream",
     "name": "stdout",
     "text": [
      "Waiting 10 seconds for training to complete...\n",
      "trained\n"
     ]
    }
   ],
   "source": [
    "client.train.train_version(app_id, versionId)\n",
    "waiting = True\n",
    "while waiting:\n",
    "    info = client.train.get_status(app_id, versionId)\n",
    "\n",
    "    # get_status returns a list of training statuses, one for each model. Loop through them and make sure all are done.\n",
    "    waiting = any(map(lambda x: 'Queued' == x.details.status or 'InProgress' == x.details.status, info))\n",
    "    if waiting:\n",
    "        print (\"Waiting 10 seconds for training to complete...\")\n",
    "        time.sleep(10)\n",
    "    else: \n",
    "        print (\"trained\")\n",
    "        waiting = False"
   ]
  },
  {
   "source": [
    "### Publish app to production slot"
   ],
   "cell_type": "markdown",
   "metadata": {}
  },
  {
   "cell_type": "code",
   "execution_count": 22,
   "metadata": {},
   "outputs": [],
   "source": [
    "responseEndpointInfo = client.apps.publish(app_id, versionId, is_staging=False)"
   ]
  },
  {
   "source": [
    "## Authenticate the prediction runtime client"
   ],
   "cell_type": "markdown",
   "metadata": {}
  },
  {
   "cell_type": "code",
   "execution_count": 23,
   "metadata": {},
   "outputs": [],
   "source": [
    "runtimeCredentials = CognitiveServicesCredentials(PREDICTION_KEY)\n",
    "clientRuntime = LUISRuntimeClient(endpoint=predictionEndpoint, credentials=runtimeCredentials)"
   ]
  },
  {
   "source": [
    "### Get prediction from runtime"
   ],
   "cell_type": "markdown",
   "metadata": {}
  },
  {
   "cell_type": "code",
   "execution_count": 24,
   "metadata": {},
   "outputs": [
    {
     "output_type": "error",
     "ename": "ErrorException",
     "evalue": "(Forbidden) This application cannot be accessed with the current subscription.",
     "traceback": [
      "\u001b[1;31m---------------------------------------------------------------------------\u001b[0m",
      "\u001b[1;31mErrorException\u001b[0m                            Traceback (most recent call last)",
      "\u001b[1;32m<ipython-input-24-972dc0485a07>\u001b[0m in \u001b[0;36m<module>\u001b[1;34m\u001b[0m\n\u001b[0;32m      2\u001b[0m \u001b[0mpredictionRequest\u001b[0m \u001b[1;33m=\u001b[0m \u001b[1;33m{\u001b[0m \u001b[1;34m\"query\"\u001b[0m \u001b[1;33m:\u001b[0m \u001b[1;34m\"I want two small pepperoni pizzas with more salsa\"\u001b[0m \u001b[1;33m}\u001b[0m\u001b[1;33m\u001b[0m\u001b[1;33m\u001b[0m\u001b[0m\n\u001b[0;32m      3\u001b[0m \u001b[1;33m\u001b[0m\u001b[0m\n\u001b[1;32m----> 4\u001b[1;33m \u001b[0mpredictionResponse\u001b[0m \u001b[1;33m=\u001b[0m \u001b[0mclientRuntime\u001b[0m\u001b[1;33m.\u001b[0m\u001b[0mprediction\u001b[0m\u001b[1;33m.\u001b[0m\u001b[0mget_slot_prediction\u001b[0m\u001b[1;33m(\u001b[0m\u001b[0mapp_id\u001b[0m\u001b[1;33m,\u001b[0m \u001b[1;34m\"Production\"\u001b[0m\u001b[1;33m,\u001b[0m \u001b[0mpredictionRequest\u001b[0m\u001b[1;33m)\u001b[0m\u001b[1;33m\u001b[0m\u001b[1;33m\u001b[0m\u001b[0m\n\u001b[0m\u001b[0;32m      5\u001b[0m \u001b[0mprint\u001b[0m\u001b[1;33m(\u001b[0m\u001b[1;34m\"Top intent: {}\"\u001b[0m\u001b[1;33m.\u001b[0m\u001b[0mformat\u001b[0m\u001b[1;33m(\u001b[0m\u001b[0mpredictionResponse\u001b[0m\u001b[1;33m.\u001b[0m\u001b[0mprediction\u001b[0m\u001b[1;33m.\u001b[0m\u001b[0mtop_intent\u001b[0m\u001b[1;33m)\u001b[0m\u001b[1;33m)\u001b[0m\u001b[1;33m\u001b[0m\u001b[1;33m\u001b[0m\u001b[0m\n\u001b[0;32m      6\u001b[0m \u001b[0mprint\u001b[0m\u001b[1;33m(\u001b[0m\u001b[1;34m\"Sentiment: {}\"\u001b[0m\u001b[1;33m.\u001b[0m\u001b[0mformat\u001b[0m \u001b[1;33m(\u001b[0m\u001b[0mpredictionResponse\u001b[0m\u001b[1;33m.\u001b[0m\u001b[0mprediction\u001b[0m\u001b[1;33m.\u001b[0m\u001b[0msentiment\u001b[0m\u001b[1;33m)\u001b[0m\u001b[1;33m)\u001b[0m\u001b[1;33m\u001b[0m\u001b[1;33m\u001b[0m\u001b[0m\n",
      "\u001b[1;32m~\\AppData\\Local\\Programs\\Python\\Python38-32\\lib\\site-packages\\azure\\cognitiveservices\\language\\luis\\runtime\\operations\\_prediction_operations.py\u001b[0m in \u001b[0;36mget_slot_prediction\u001b[1;34m(self, app_id, slot_name, prediction_request, verbose, show_all_intents, log, custom_headers, raw, **operation_config)\u001b[0m\n\u001b[0;32m    177\u001b[0m \u001b[1;33m\u001b[0m\u001b[0m\n\u001b[0;32m    178\u001b[0m         \u001b[1;32mif\u001b[0m \u001b[0mresponse\u001b[0m\u001b[1;33m.\u001b[0m\u001b[0mstatus_code\u001b[0m \u001b[1;32mnot\u001b[0m \u001b[1;32min\u001b[0m \u001b[1;33m[\u001b[0m\u001b[1;36m200\u001b[0m\u001b[1;33m]\u001b[0m\u001b[1;33m:\u001b[0m\u001b[1;33m\u001b[0m\u001b[1;33m\u001b[0m\u001b[0m\n\u001b[1;32m--> 179\u001b[1;33m             \u001b[1;32mraise\u001b[0m \u001b[0mmodels\u001b[0m\u001b[1;33m.\u001b[0m\u001b[0mErrorException\u001b[0m\u001b[1;33m(\u001b[0m\u001b[0mself\u001b[0m\u001b[1;33m.\u001b[0m\u001b[0m_deserialize\u001b[0m\u001b[1;33m,\u001b[0m \u001b[0mresponse\u001b[0m\u001b[1;33m)\u001b[0m\u001b[1;33m\u001b[0m\u001b[1;33m\u001b[0m\u001b[0m\n\u001b[0m\u001b[0;32m    180\u001b[0m \u001b[1;33m\u001b[0m\u001b[0m\n\u001b[0;32m    181\u001b[0m         \u001b[0mdeserialized\u001b[0m \u001b[1;33m=\u001b[0m \u001b[1;32mNone\u001b[0m\u001b[1;33m\u001b[0m\u001b[1;33m\u001b[0m\u001b[0m\n",
      "\u001b[1;31mErrorException\u001b[0m: (Forbidden) This application cannot be accessed with the current subscription."
     ]
    }
   ],
   "source": [
    "# Production == slot name\n",
    "predictionRequest = { \"query\" : \"I want two small pepperoni pizzas with more salsa\" }\n",
    "\n",
    "predictionResponse = clientRuntime.prediction.get_slot_prediction(app_id, \"Production\", predictionRequest)\n",
    "print(\"Top intent: {}\".format(predictionResponse.prediction.top_intent))\n",
    "print(\"Sentiment: {}\".format (predictionResponse.prediction.sentiment))\n",
    "print(\"Intents: \")\n",
    "\n",
    "for intent in predictionResponse.prediction.intents:\n",
    "    print(\"\\t{}\".format (json.dumps (intent)))\n",
    "print(\"Entities: {}\".format (predictionResponse.prediction.entities))"
   ]
  }
 ]
}