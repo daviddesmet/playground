{
 "metadata": {
  "language_info": {
   "codemirror_mode": {
    "name": "ipython",
    "version": 3
   },
   "file_extension": ".py",
   "mimetype": "text/x-python",
   "name": "python",
   "nbconvert_exporter": "python",
   "pygments_lexer": "ipython3",
   "version": "3.8.5-final"
  },
  "orig_nbformat": 2,
  "kernelspec": {
   "name": "python3",
   "display_name": "Python 3.8.5 32-bit",
   "metadata": {
    "interpreter": {
     "hash": "51c3f01bf447baff25274d03ed6de26a7d16ffbc58ea7558f7faace83c35fc62"
    }
   }
  }
 },
 "nbformat": 4,
 "nbformat_minor": 2,
 "cells": [
  {
   "cell_type": "code",
   "execution_count": 73,
   "metadata": {},
   "outputs": [
    {
     "output_type": "stream",
     "name": "stdout",
     "text": [
      "Note: you may need to restart the kernel to use updated packages.\n",
      "'C:\\Users\\David' is not recognized as an internal or external command,\n",
      "operable program or batch file.\n"
     ]
    }
   ],
   "source": [
    "pip install -r requirements.txt"
   ]
  },
  {
   "cell_type": "code",
   "execution_count": 43,
   "metadata": {},
   "outputs": [],
   "source": [
    "import os.path\n",
    "from pprint import pprint\n",
    "import time\n",
    "from io import BytesIO\n",
    "from random import random\n",
    "import uuid\n",
    "\n",
    "from azure.cognitiveservices.vision.contentmoderator import ContentModeratorClient\n",
    "import azure.cognitiveservices.vision.contentmoderator.models\n",
    "from msrest.authentication import CognitiveServicesCredentials"
   ]
  },
  {
   "cell_type": "code",
   "execution_count": 31,
   "metadata": {},
   "outputs": [],
   "source": [
    "CONTENTMODERATOR_ENDPOINT = \"<your API endpoint>\"\n",
    "SUBSCRIPTION_KEY = \"<your subscription key\""
   ]
  },
  {
   "source": [
    "Authenticate the client"
   ],
   "cell_type": "markdown",
   "metadata": {}
  },
  {
   "cell_type": "code",
   "execution_count": 37,
   "metadata": {},
   "outputs": [],
   "source": [
    "client = ContentModeratorClient(\n",
    "    endpoint=CONTENTMODERATOR_ENDPOINT,\n",
    "    credentials=CognitiveServicesCredentials(SUBSCRIPTION_KEY)\n",
    ")"
   ]
  },
  {
   "source": [
    "## Moderate Text"
   ],
   "cell_type": "markdown",
   "metadata": {}
  },
  {
   "cell_type": "code",
   "execution_count": 41,
   "metadata": {},
   "outputs": [],
   "source": [
    "TEXT_FOLDER = os.path.join(os.path.dirname(\n",
    "    os.path.abspath('')), \"azure-cognitive-services-content-moderator-python/text_files\")"
   ]
  },
  {
   "cell_type": "code",
   "execution_count": 44,
   "metadata": {},
   "outputs": [
    {
     "output_type": "stream",
     "name": "stdout",
     "text": [
      "{'auto_corrected_text': 'Is this a garbage email abcdef@abcd.com, phone: '\n                        '4255550111, IP: 255.255.255.255, 1234 Main Boulevard, '\n                        'Pentapolis WA 96555.\\r\\n'\n                        'Crap is the profanity here. Is this information PII? '\n                        'phone 4255550111',\n 'language': 'eng',\n 'normalized_text': '   grabage email abcdef@abcd.com, phone: 4255550111, IP: '\n                    '255.255.255.255, 1234 Main Boulevard, Panapolis WA '\n                    '96555.\\r\\n'\n                    'Crap   profanity .   information PII? phone 4255550111',\n 'original_text': 'Is this a grabage email abcdef@abcd.com, phone: 4255550111, '\n                  'IP: 255.255.255.255, 1234 Main Boulevard, Panapolis WA '\n                  '96555.\\r\\n'\n                  'Crap is the profanity here. Is this information PII? phone '\n                  '4255550111',\n 'pii': {'address': [{'index': 81,\n                      'text': '1234 Main Boulevard, Panapolis WA 96555'}],\n         'email': [{'detected': 'abcdef@abcd.com',\n                    'index': 24,\n                    'sub_type': 'Regular',\n                    'text': 'abcdef@abcd.com'}],\n         'ipa': [{'index': 64, 'sub_type': 'IPV4', 'text': '255.255.255.255'}],\n         'phone': [{'country_code': 'US', 'index': 48, 'text': '4255550111'},\n                   {'country_code': 'US', 'index': 182, 'text': '4255550111'}],\n         'ssn': []},\n 'status': {'code': 3000, 'description': 'OK'},\n 'terms': [{'index': 116, 'list_id': 0, 'original_index': 123, 'term': 'crap'}],\n 'tracking_id': 'USW2_ibiza_5b2b8551-c418-48bf-ab44-67074a66f136_ContentModerator.F0_736d935f-4f1c-4c3e-9444-c63d579de8b8'}\n"
     ]
    }
   ],
   "source": [
    "# Screen the input text: check for profanity,\n",
    "# do autocorrect text, and check for personally identifying\n",
    "# information (PII)\n",
    "with open(os.path.join(TEXT_FOLDER, 'content_moderator_text_moderation.txt'), \"rb\") as text_fd:\n",
    "    screen = client.text_moderation.screen_text(\n",
    "        text_content_type=\"text/plain\",\n",
    "        text_content=text_fd,\n",
    "        language=\"eng\",\n",
    "        autocorrect=True,\n",
    "        pii=True\n",
    "    )\n",
    "    #assert isinstance(screen, Screen)\n",
    "    pprint(screen.as_dict())"
   ]
  },
  {
   "source": [
    "### Use a custom terms list"
   ],
   "cell_type": "markdown",
   "metadata": {}
  },
  {
   "cell_type": "code",
   "execution_count": 52,
   "metadata": {},
   "outputs": [],
   "source": [
    "LATENCY_DELAY = 1\n",
    "TEXT_FOLDER = os.path.join(os.path.dirname(\n",
    "    os.path.realpath('')), \"azure-cognitive-services-content-moderator-python/text_files\")"
   ]
  },
  {
   "cell_type": "code",
   "execution_count": 54,
   "metadata": {},
   "outputs": [
    {
     "output_type": "stream",
     "name": "stdout",
     "text": [
      "\n",
      "Creating list\n",
      "List created:\n",
      "{'description': 'Term list description', 'id': 163, 'name': 'Term list name'}\n",
      "\n",
      "Updating details for list 163\n",
      "{'description': 'New description', 'id': 163, 'name': 'New name'}\n",
      "\n",
      "Adding terms to list 163\n",
      "\n",
      "Getting all term IDs for list 163\n",
      "{'language': 'eng',\n",
      " 'status': {'code': 3000, 'description': 'OK'},\n",
      " 'terms': [{'term': 'term1'}, {'term': 'term2'}],\n",
      " 'tracking_id': 'USW2_ibiza_5b2b8551-c418-48bf-ab44-67074a66f136_ContentModerator.F0_c208c5ec-4c10-4bc9-8a9d-35501c4483ff'}\n",
      "\n",
      "Refreshing the search index for list 163\n",
      "{'advanced_info': [],\n",
      " 'content_source_id': '163',\n",
      " 'is_update_success': True,\n",
      " 'status': {'code': 3000, 'description': 'OK'},\n",
      " 'tracking_id': 'USW2_ibiza_5b2b8551-c418-48bf-ab44-67074a66f136_ContentModerator.F0_b1f54db8-7ef2-4cbf-abcd-7e96a5e6ab85'}\n",
      "\n",
      "Waiting 1 minutes to allow the server time to propagate the index changes.\n",
      "{'language': 'eng',\n",
      " 'normalized_text': ' text contains  terms \"term1\"  \"term2\".',\n",
      " 'original_text': 'This text contains the terms \"term1\" and \"term2\".',\n",
      " 'status': {'code': 3000, 'description': 'OK'},\n",
      " 'terms': [{'index': 23, 'list_id': 163, 'original_index': 30, 'term': 'term1'},\n",
      "           {'index': 32,\n",
      "            'list_id': 163,\n",
      "            'original_index': 42,\n",
      "            'term': 'term2'}],\n",
      " 'tracking_id': 'USW2_ibiza_5b2b8551-c418-48bf-ab44-67074a66f136_ContentModerator.F0_e62bfcad-c874-45d5-ba26-1d247f3930e2'}\n"
     ]
    }
   ],
   "source": [
    "#\n",
    "# Create list\n",
    "#\n",
    "print(\"\\nCreating list\")\n",
    "custom_list = client.list_management_term_lists.create(\n",
    "    content_type=\"application/json\",\n",
    "    body={\n",
    "        \"name\": \"Term list name\",\n",
    "        \"description\": \"Term list description\",\n",
    "    }\n",
    ")\n",
    "print(\"List created:\")\n",
    "#assert isinstance(custom_list, TermList)\n",
    "pprint(custom_list.as_dict())\n",
    "list_id = custom_list.id\n",
    "\n",
    "#\n",
    "# Update list details\n",
    "#\n",
    "print(\"\\nUpdating details for list {}\".format(list_id))\n",
    "updated_list = client.list_management_term_lists.update(\n",
    "    list_id=list_id,\n",
    "    content_type=\"application/json\",\n",
    "    body={\n",
    "        \"name\": \"New name\",\n",
    "        \"description\": \"New description\"\n",
    "    }\n",
    ")\n",
    "#assert isinstance(updated_list, TermList)\n",
    "pprint(updated_list.as_dict())\n",
    "\n",
    "#\n",
    "# Add terms\n",
    "#\n",
    "print(\"\\nAdding terms to list {}\".format(list_id))\n",
    "client.list_management_term.add_term(\n",
    "    list_id=list_id,\n",
    "    term=\"term1\",\n",
    "    language=\"eng\"\n",
    ")\n",
    "client.list_management_term.add_term(\n",
    "    list_id=list_id,\n",
    "    term=\"term2\",\n",
    "    language=\"eng\"\n",
    ")\n",
    "\n",
    "#\n",
    "# Get all terms ids\n",
    "#\n",
    "print(\"\\nGetting all term IDs for list {}\".format(list_id))\n",
    "terms = client.list_management_term.get_all_terms(\n",
    "    list_id=list_id, language=\"eng\")\n",
    "#assert isinstance(terms, Terms)\n",
    "terms_data = terms.data\n",
    "#assert isinstance(terms_data, TermsData)\n",
    "pprint(terms_data.as_dict())\n",
    "\n",
    "#\n",
    "# Refresh the index\n",
    "#\n",
    "print(\"\\nRefreshing the search index for list {}\".format(list_id))\n",
    "refresh_index = client.list_management_term_lists.refresh_index_method(\n",
    "    list_id=list_id, language=\"eng\")\n",
    "#assert isinstance(refresh_index, RefreshIndex)\n",
    "pprint(refresh_index.as_dict())\n",
    "\n",
    "print(\"\\nWaiting {} minutes to allow the server time to propagate the index changes.\".format(\n",
    "    LATENCY_DELAY))\n",
    "time.sleep(LATENCY_DELAY * 60)\n",
    "\n",
    "#\n",
    "# Screen text\n",
    "#\n",
    "with open(os.path.join(TEXT_FOLDER, 'content_moderator_term_list.txt'), \"rb\") as text_fd:\n",
    "    screen = client.text_moderation.screen_text(\n",
    "        text_content_type=\"text/plain\",\n",
    "        text_content=text_fd,\n",
    "        language=\"eng\",\n",
    "        autocorrect=False,\n",
    "        pii=False,\n",
    "        list_id=list_id\n",
    "    )\n",
    "    #assert isinstance(screen, Screen)\n",
    "    pprint(screen.as_dict())\n",
    "\n",
    "#\n",
    "# Remove terms\n",
    "#\n",
    "term_to_remove = \"term1\"\n",
    "print(\"\\nRemove term {} from list {}\".format(term_to_remove, list_id))\n",
    "client.list_management_term.delete_term(\n",
    "    list_id=list_id,\n",
    "    term=term_to_remove,\n",
    "    language=\"eng\"\n",
    ")\n",
    "\n",
    "#\n",
    "# Delete all terms\n",
    "#\n",
    "print(\"\\nDelete all terms in the image list {}\".format(list_id))\n",
    "client.list_management_term.delete_all_terms(\n",
    "    list_id=list_id, language=\"eng\")"
   ]
  },
  {
   "source": [
    "## Moderate images"
   ],
   "cell_type": "markdown",
   "metadata": {}
  },
  {
   "cell_type": "code",
   "execution_count": 55,
   "metadata": {},
   "outputs": [],
   "source": [
    "IMAGE_LIST = [\n",
    "    \"https://moderatorsampleimages.blob.core.windows.net/samples/sample2.jpg\",\n",
    "    \"https://moderatorsampleimages.blob.core.windows.net/samples/sample5.png\"\n",
    "]"
   ]
  },
  {
   "cell_type": "code",
   "execution_count": 56,
   "metadata": {},
   "outputs": [
    {
     "output_type": "stream",
     "name": "stdout",
     "text": [
      "\nEvaluate image https://moderatorsampleimages.blob.core.windows.net/samples/sample2.jpg\n\nEvaluate image https://moderatorsampleimages.blob.core.windows.net/samples/sample5.png\n"
     ]
    }
   ],
   "source": [
    "for image_url in IMAGE_LIST:\n",
    "    print(\"\\nEvaluate image {}\".format(image_url))"
   ]
  },
  {
   "cell_type": "code",
   "execution_count": 57,
   "metadata": {},
   "outputs": [
    {
     "output_type": "stream",
     "name": "stdout",
     "text": [
      "\n",
      "Evaluate for adult and racy content.\n",
      "{'adult_classification_score': 0.0013530384749174118,\n",
      " 'advanced_info': [{'key': 'ImageDownloadTimeInMs', 'value': '548'},\n",
      "                   {'key': 'ImageSizeInBytes', 'value': '2278902'}],\n",
      " 'cache_id': '66fc26c3-77f6-43c2-97e5-ac17855426f0_637416664972918935',\n",
      " 'is_image_adult_classified': False,\n",
      " 'is_image_racy_classified': False,\n",
      " 'racy_classification_score': 0.0045312270522117615,\n",
      " 'result': False,\n",
      " 'status': {'code': 3000, 'description': 'OK'},\n",
      " 'tracking_id': 'USW2_ibiza_5b2b8551-c418-48bf-ab44-67074a66f136_ContentModerator.F0_13240c96-2976-42a9-9e93-72027225b98c'}\n"
     ]
    }
   ],
   "source": [
    "print(\"\\nEvaluate for adult and racy content.\")\n",
    "evaluation = client.image_moderation.evaluate_url_input(\n",
    "    content_type=\"application/json\",\n",
    "    cache_image=True,\n",
    "    data_representation=\"URL\",\n",
    "    value=image_url\n",
    ")\n",
    "#assert isinstance(evaluation, Evaluate)\n",
    "pprint(evaluation.as_dict())"
   ]
  },
  {
   "cell_type": "code",
   "execution_count": 58,
   "metadata": {},
   "outputs": [
    {
     "output_type": "stream",
     "name": "stdout",
     "text": [
      "\n",
      "Detect and extract text.\n",
      "{'candidates': [],\n",
      " 'language': 'eng',\n",
      " 'metadata': [{'key': 'ImageDownloadTimeInMs', 'value': '477'},\n",
      "              {'key': 'ImageSizeInBytes', 'value': '2278902'}],\n",
      " 'status': {'code': 3000, 'description': 'OK'},\n",
      " 'text': '',\n",
      " 'tracking_id': 'USW2_ibiza_5b2b8551-c418-48bf-ab44-67074a66f136_ContentModerator.F0_472d7fa2-767c-4438-b8a4-f4fb6c60b161'}\n"
     ]
    }
   ],
   "source": [
    "print(\"\\nDetect and extract text.\")\n",
    "evaluation = client.image_moderation.ocr_url_input(\n",
    "    language=\"eng\",\n",
    "    content_type=\"application/json\",\n",
    "    data_representation=\"URL\",\n",
    "    value=image_url,\n",
    "    cache_image=True,\n",
    ")\n",
    "#assert isinstance(evaluation, OCR)\n",
    "pprint(evaluation.as_dict())"
   ]
  },
  {
   "cell_type": "code",
   "execution_count": 59,
   "metadata": {},
   "outputs": [
    {
     "output_type": "stream",
     "name": "stdout",
     "text": [
      "\n",
      "Detect faces.\n",
      "{'advanced_info': [{'key': 'ImageDownloadTimeInMs', 'value': '149'},\n",
      "                   {'key': 'ImageSizeInBytes', 'value': '2278902'}],\n",
      " 'count': 6,\n",
      " 'faces': [{'bottom': 598, 'left': 44, 'right': 268, 'top': 374},\n",
      "           {'bottom': 620, 'left': 308, 'right': 532, 'top': 396},\n",
      "           {'bottom': 575, 'left': 594, 'right': 773, 'top': 396},\n",
      "           {'bottom': 563, 'left': 812, 'right': 955, 'top': 420},\n",
      "           {'bottom': 611, 'left': 972, 'right': 1151, 'top': 432},\n",
      "           {'bottom': 510, 'left': 1232, 'right': 1456, 'top': 286}],\n",
      " 'result': True,\n",
      " 'status': {'code': 3000, 'description': 'OK'},\n",
      " 'tracking_id': 'USW2_ibiza_5b2b8551-c418-48bf-ab44-67074a66f136_ContentModerator.F0_556eb89f-45be-44fe-ad9c-97be635f6ea0'}\n"
     ]
    }
   ],
   "source": [
    "print(\"\\nDetect faces.\")\n",
    "evaluation = client.image_moderation.find_faces_url_input(\n",
    "    content_type=\"application/json\",\n",
    "    cache_image=True,\n",
    "    data_representation=\"URL\",\n",
    "    value=image_url\n",
    ")\n",
    "#assert isinstance(evaluation, FoundFaces)\n",
    "pprint(evaluation.as_dict())"
   ]
  },
  {
   "source": [
    "### Use a custom image list"
   ],
   "cell_type": "markdown",
   "metadata": {}
  },
  {
   "cell_type": "code",
   "execution_count": 62,
   "metadata": {},
   "outputs": [],
   "source": [
    "IMAGE_LIST = {\n",
    "    \"Sports\": [\n",
    "        \"https://moderatorsampleimages.blob.core.windows.net/samples/sample4.png\",\n",
    "        \"https://moderatorsampleimages.blob.core.windows.net/samples/sample6.png\",\n",
    "        \"https://moderatorsampleimages.blob.core.windows.net/samples/sample9.png\"\n",
    "    ],\n",
    "    \"Swimsuit\": [\n",
    "        \"https://moderatorsampleimages.blob.core.windows.net/samples/sample1.jpg\",\n",
    "        \"https://moderatorsampleimages.blob.core.windows.net/samples/sample3.png\",\n",
    "        \"https://moderatorsampleimages.blob.core.windows.net/samples/sample4.png\",\n",
    "        \"https://moderatorsampleimages.blob.core.windows.net/samples/sample16.png\"\n",
    "    ]\n",
    "}\n",
    "\n",
    "IMAGES_TO_MATCH = [\n",
    "    \"https://moderatorsampleimages.blob.core.windows.net/samples/sample1.jpg\",\n",
    "    \"https://moderatorsampleimages.blob.core.windows.net/samples/sample4.png\",\n",
    "    \"https://moderatorsampleimages.blob.core.windows.net/samples/sample5.png\",\n",
    "    \"https://moderatorsampleimages.blob.core.windows.net/samples/sample16.png\"\n",
    "]"
   ]
  },
  {
   "cell_type": "code",
   "execution_count": 66,
   "metadata": {},
   "outputs": [
    {
     "output_type": "stream",
     "name": "stdout",
     "text": [
      "Creating list MyList\n",
      "\n",
      "List created:\n",
      "{'description': 'A sample list',\n",
      " 'id': 862635,\n",
      " 'metadata': {'key_one': 'Acceptable', 'key_two': 'Potentially racy'},\n",
      " 'name': 'MyList'}\n",
      "\n",
      "Adding images to list 862635\n",
      "\n",
      "Adding image https://moderatorsampleimages.blob.core.windows.net/samples/sample4.png to list 862635 with label Sports.\n",
      "{'additional_info': [{'key': 'ImageDownloadTimeInMs', 'value': '468'},\n",
      "                     {'key': 'ImageSizeInBytes', 'value': '2945548'},\n",
      "                     {'key': 'Source', 'value': '862635'}],\n",
      " 'content_id': '1030312',\n",
      " 'status': {'code': 3000, 'description': 'OK'},\n",
      " 'tracking_id': 'USW2_ibiza_5b2b8551-c418-48bf-ab44-67074a66f136_ContentModerator.F0_13a4a100-e85c-49b3-87a3-d502c3809c32'}\n",
      "\n",
      "Adding image https://moderatorsampleimages.blob.core.windows.net/samples/sample6.png to list 862635 with label Sports.\n",
      "{'additional_info': [{'key': 'ImageDownloadTimeInMs', 'value': '489'},\n",
      "                     {'key': 'ImageSizeInBytes', 'value': '2440050'},\n",
      "                     {'key': 'Source', 'value': '862635'}],\n",
      " 'content_id': '1030313',\n",
      " 'status': {'code': 3000, 'description': 'OK'},\n",
      " 'tracking_id': 'USW2_ibiza_5b2b8551-c418-48bf-ab44-67074a66f136_ContentModerator.F0_6af7f512-5d3a-42d4-9917-48f5597b1d52'}\n",
      "\n",
      "Adding image https://moderatorsampleimages.blob.core.windows.net/samples/sample9.png to list 862635 with label Sports.\n",
      "{'additional_info': [{'key': 'ImageDownloadTimeInMs', 'value': '158'},\n",
      "                     {'key': 'ImageSizeInBytes', 'value': '1631958'},\n",
      "                     {'key': 'Source', 'value': '862635'}],\n",
      " 'content_id': '1030314',\n",
      " 'status': {'code': 3000, 'description': 'OK'},\n",
      " 'tracking_id': 'USW2_ibiza_5b2b8551-c418-48bf-ab44-67074a66f136_ContentModerator.F0_fb2db52f-228e-421d-80b8-b65ebc789594'}\n",
      "\n",
      "Adding image https://moderatorsampleimages.blob.core.windows.net/samples/sample1.jpg to list 862635 with label Swimsuit.\n",
      "{'additional_info': [{'key': 'ImageDownloadTimeInMs', 'value': '28'},\n",
      "                     {'key': 'ImageSizeInBytes', 'value': '17280'},\n",
      "                     {'key': 'Source', 'value': '862635'}],\n",
      " 'content_id': '1030315',\n",
      " 'status': {'code': 3000, 'description': 'OK'},\n",
      " 'tracking_id': 'USW2_ibiza_5b2b8551-c418-48bf-ab44-67074a66f136_ContentModerator.F0_aa14d4dc-48e9-4346-a091-ca087669e73e'}\n",
      "\n",
      "Adding image https://moderatorsampleimages.blob.core.windows.net/samples/sample3.png to list 862635 with label Swimsuit.\n",
      "{'additional_info': [{'key': 'ImageDownloadTimeInMs', 'value': '98'},\n",
      "                     {'key': 'ImageSizeInBytes', 'value': '1242855'},\n",
      "                     {'key': 'Source', 'value': '862635'}],\n",
      " 'content_id': '1030316',\n",
      " 'status': {'code': 3000, 'description': 'OK'},\n",
      " 'tracking_id': 'USW2_ibiza_5b2b8551-c418-48bf-ab44-67074a66f136_ContentModerator.F0_d44da76c-f418-486a-aad4-62491491767f'}\n",
      "\n",
      "Adding image https://moderatorsampleimages.blob.core.windows.net/samples/sample4.png to list 862635 with label Swimsuit.\n"
     ]
    },
    {
     "output_type": "error",
     "ename": "NameError",
     "evalue": "name 'APIErrorException' is not defined",
     "traceback": [
      "\u001b[1;31m---------------------------------------------------------------------------\u001b[0m",
      "\u001b[1;31mAPIErrorException\u001b[0m                         Traceback (most recent call last)",
      "\u001b[1;32m<ipython-input-66-74dbd201be4e>\u001b[0m in \u001b[0;36madd_images\u001b[1;34m(list_id, image_url, label)\u001b[0m\n\u001b[0;32m     28\u001b[0m     \u001b[1;32mtry\u001b[0m\u001b[1;33m:\u001b[0m\u001b[1;33m\u001b[0m\u001b[1;33m\u001b[0m\u001b[0m\n\u001b[1;32m---> 29\u001b[1;33m         added_image = client.list_management_image.add_image_url_input(\n\u001b[0m\u001b[0;32m     30\u001b[0m             \u001b[0mlist_id\u001b[0m\u001b[1;33m=\u001b[0m\u001b[0mlist_id\u001b[0m\u001b[1;33m,\u001b[0m\u001b[1;33m\u001b[0m\u001b[1;33m\u001b[0m\u001b[0m\n",
      "\u001b[1;32m~\\AppData\\Local\\Programs\\Python\\Python38-32\\lib\\site-packages\\azure\\cognitiveservices\\vision\\contentmoderator\\operations\\list_management_image_operations.py\u001b[0m in \u001b[0;36madd_image_url_input\u001b[1;34m(self, list_id, content_type, tag, label, data_representation, value, custom_headers, raw, **operation_config)\u001b[0m\n\u001b[0;32m    317\u001b[0m         \u001b[1;32mif\u001b[0m \u001b[0mresponse\u001b[0m\u001b[1;33m.\u001b[0m\u001b[0mstatus_code\u001b[0m \u001b[1;32mnot\u001b[0m \u001b[1;32min\u001b[0m \u001b[1;33m[\u001b[0m\u001b[1;36m200\u001b[0m\u001b[1;33m]\u001b[0m\u001b[1;33m:\u001b[0m\u001b[1;33m\u001b[0m\u001b[1;33m\u001b[0m\u001b[0m\n\u001b[1;32m--> 318\u001b[1;33m             \u001b[1;32mraise\u001b[0m \u001b[0mmodels\u001b[0m\u001b[1;33m.\u001b[0m\u001b[0mAPIErrorException\u001b[0m\u001b[1;33m(\u001b[0m\u001b[0mself\u001b[0m\u001b[1;33m.\u001b[0m\u001b[0m_deserialize\u001b[0m\u001b[1;33m,\u001b[0m \u001b[0mresponse\u001b[0m\u001b[1;33m)\u001b[0m\u001b[1;33m\u001b[0m\u001b[1;33m\u001b[0m\u001b[0m\n\u001b[0m\u001b[0;32m    319\u001b[0m \u001b[1;33m\u001b[0m\u001b[0m\n",
      "\u001b[1;31mAPIErrorException\u001b[0m: Operation returned an invalid status code 'Conflict'",
      "\nDuring handling of the above exception, another exception occurred:\n",
      "\u001b[1;31mNameError\u001b[0m                                 Traceback (most recent call last)",
      "\u001b[1;32m<ipython-input-66-74dbd201be4e>\u001b[0m in \u001b[0;36m<module>\u001b[1;34m\u001b[0m\n\u001b[0;32m     45\u001b[0m \u001b[1;32mfor\u001b[0m \u001b[0mlabel\u001b[0m\u001b[1;33m,\u001b[0m \u001b[0murls\u001b[0m \u001b[1;32min\u001b[0m \u001b[0mIMAGE_LIST\u001b[0m\u001b[1;33m.\u001b[0m\u001b[0mitems\u001b[0m\u001b[1;33m(\u001b[0m\u001b[1;33m)\u001b[0m\u001b[1;33m:\u001b[0m\u001b[1;33m\u001b[0m\u001b[1;33m\u001b[0m\u001b[0m\n\u001b[0;32m     46\u001b[0m     \u001b[1;32mfor\u001b[0m \u001b[0murl\u001b[0m \u001b[1;32min\u001b[0m \u001b[0murls\u001b[0m\u001b[1;33m:\u001b[0m\u001b[1;33m\u001b[0m\u001b[1;33m\u001b[0m\u001b[0m\n\u001b[1;32m---> 47\u001b[1;33m         \u001b[0mimage\u001b[0m \u001b[1;33m=\u001b[0m \u001b[0madd_images\u001b[0m\u001b[1;33m(\u001b[0m\u001b[0mlist_id\u001b[0m\u001b[1;33m,\u001b[0m \u001b[0murl\u001b[0m\u001b[1;33m,\u001b[0m \u001b[0mlabel\u001b[0m\u001b[1;33m)\u001b[0m\u001b[1;33m\u001b[0m\u001b[1;33m\u001b[0m\u001b[0m\n\u001b[0m\u001b[0;32m     48\u001b[0m         \u001b[1;32mif\u001b[0m \u001b[0mimage\u001b[0m\u001b[1;33m:\u001b[0m\u001b[1;33m\u001b[0m\u001b[1;33m\u001b[0m\u001b[0m\n\u001b[0;32m     49\u001b[0m             \u001b[0mindex\u001b[0m\u001b[1;33m[\u001b[0m\u001b[0murl\u001b[0m\u001b[1;33m]\u001b[0m \u001b[1;33m=\u001b[0m \u001b[0mimage\u001b[0m\u001b[1;33m.\u001b[0m\u001b[0mcontent_id\u001b[0m\u001b[1;33m\u001b[0m\u001b[1;33m\u001b[0m\u001b[0m\n",
      "\u001b[1;32m<ipython-input-66-74dbd201be4e>\u001b[0m in \u001b[0;36madd_images\u001b[1;34m(list_id, image_url, label)\u001b[0m\n\u001b[0;32m     34\u001b[0m             \u001b[0mlabel\u001b[0m\u001b[1;33m=\u001b[0m\u001b[0mlabel\u001b[0m\u001b[1;33m\u001b[0m\u001b[1;33m\u001b[0m\u001b[0m\n\u001b[0;32m     35\u001b[0m         )\n\u001b[1;32m---> 36\u001b[1;33m     \u001b[1;32mexcept\u001b[0m \u001b[0mAPIErrorException\u001b[0m \u001b[1;32mas\u001b[0m \u001b[0merr\u001b[0m\u001b[1;33m:\u001b[0m\u001b[1;33m\u001b[0m\u001b[1;33m\u001b[0m\u001b[0m\n\u001b[0m\u001b[0;32m     37\u001b[0m         \u001b[1;31m# sample4 will fail\u001b[0m\u001b[1;33m\u001b[0m\u001b[1;33m\u001b[0m\u001b[1;33m\u001b[0m\u001b[0m\n\u001b[0;32m     38\u001b[0m         \u001b[0mprint\u001b[0m\u001b[1;33m(\u001b[0m\u001b[1;34m\"Unable to add image to list: {}\"\u001b[0m\u001b[1;33m.\u001b[0m\u001b[0mformat\u001b[0m\u001b[1;33m(\u001b[0m\u001b[0merr\u001b[0m\u001b[1;33m)\u001b[0m\u001b[1;33m)\u001b[0m\u001b[1;33m\u001b[0m\u001b[1;33m\u001b[0m\u001b[0m\n",
      "\u001b[1;31mNameError\u001b[0m: name 'APIErrorException' is not defined"
     ]
    }
   ],
   "source": [
    "#\n",
    "# Create list\n",
    "#\n",
    "print(\"Creating list MyList\\n\")\n",
    "custom_list = client.list_management_image_lists.create(\n",
    "    content_type=\"application/json\",\n",
    "    body={\n",
    "        \"name\": \"MyList\",\n",
    "        \"description\": \"A sample list\",\n",
    "        \"metadata\": {\n",
    "            \"key_one\": \"Acceptable\",\n",
    "            \"key_two\": \"Potentially racy\"\n",
    "        }\n",
    "    }\n",
    ")\n",
    "print(\"List created:\")\n",
    "#assert isinstance(custom_list, ImageList)\n",
    "pprint(custom_list.as_dict())\n",
    "list_id = custom_list.id\n",
    "\n",
    "#\n",
    "# Add images\n",
    "#\n",
    "def add_images(list_id, image_url, label):\n",
    "    \"\"\"Generic add_images from url and label.\"\"\"\n",
    "    print(\"\\nAdding image {} to list {} with label {}.\".format(image_url, list_id, label))\n",
    "    try:\n",
    "        added_image = client.list_management_image.add_image_url_input(\n",
    "            list_id=list_id,\n",
    "            content_type=\"application/json\",\n",
    "            data_representation=\"URL\",\n",
    "            value=image_url,\n",
    "            label=label\n",
    "        )\n",
    "    except APIErrorException as err:\n",
    "        # sample4 will fail\n",
    "        print(\"Unable to add image to list: {}\".format(err))\n",
    "    else:\n",
    "        #assert isinstance(added_image, Image)\n",
    "        pprint(added_image.as_dict())\n",
    "        return added_image\n",
    "print(\"\\nAdding images to list {}\".format(list_id))\n",
    "index = {}  # Keep an index url to id for later removal\n",
    "for label, urls in IMAGE_LIST.items():\n",
    "    for url in urls:\n",
    "        image = add_images(list_id, url, label)\n",
    "        if image:\n",
    "            index[url] = image.content_id\n",
    "\n",
    "#\n",
    "# Get all images ids\n",
    "#\n",
    "print(\"\\nGetting all image IDs for list {}\".format(list_id))\n",
    "image_ids = client.list_management_image.get_all_image_ids(list_id=list_id)\n",
    "#assert isinstance(image_ids, ImageIds)\n",
    "pprint(image_ids.as_dict())\n",
    "\n",
    "#\n",
    "# Update list details\n",
    "#\n",
    "print(\"\\nUpdating details for list {}\".format(list_id))\n",
    "updated_list = client.list_management_image_lists.update(\n",
    "    list_id=list_id,\n",
    "    content_type=\"application/json\",\n",
    "    body={\n",
    "        \"name\": \"Swimsuits and sports\"\n",
    "    }\n",
    ")\n",
    "#assert isinstance(updated_list, ImageList)\n",
    "pprint(updated_list.as_dict())\n",
    "\n",
    "#\n",
    "# Get list details\n",
    "#\n",
    "print(\"\\nGetting details for list {}\".format(list_id))\n",
    "list_details = client.list_management_image_lists.get_details(\n",
    "    list_id=list_id)\n",
    "#assert isinstance(list_details, ImageList)\n",
    "pprint(list_details.as_dict())\n",
    "\n",
    "#\n",
    "# Refresh the index\n",
    "#\n",
    "print(\"\\nRefreshing the search index for list {}\".format(list_id))\n",
    "refresh_index = client.list_management_image_lists.refresh_index_method(\n",
    "    list_id=list_id)\n",
    "#assert isinstance(refresh_index, RefreshIndex)\n",
    "pprint(refresh_index.as_dict())\n",
    "\n",
    "print(\"\\nWaiting {} minutes to allow the server time to propagate the index changes.\".format(\n",
    "    LATENCY_DELAY))\n",
    "time.sleep(LATENCY_DELAY * 60)\n",
    "\n",
    "#\n",
    "# Match images against the image list.\n",
    "#\n",
    "for image_url in IMAGES_TO_MATCH:\n",
    "    print(\"\\nMatching image {} against list {}\".format(image_url, list_id))\n",
    "    match_result = client.image_moderation.match_url_input(\n",
    "        content_type=\"application/json\",\n",
    "        list_id=list_id,\n",
    "        data_representation=\"URL\",\n",
    "        value=image_url,\n",
    "    )\n",
    "    #assert isinstance(match_result, MatchResponse)\n",
    "    print(\"Is match? {}\".format(match_result.is_match))\n",
    "    print(\"Complete match details:\")\n",
    "    pprint(match_result.as_dict())\n",
    "\n",
    "#\n",
    "# Remove images\n",
    "#\n",
    "correction = \"https://moderatorsampleimages.blob.core.windows.net/samples/sample16.png\"\n",
    "print(\"\\nRemove image {} from list {}\".format(correction, list_id))\n",
    "client.list_management_image.delete_image(\n",
    "    list_id=list_id,\n",
    "    image_id=index[correction]\n",
    ")\n",
    "\n",
    "#\n",
    "# Delete all images\n",
    "#\n",
    "print(\"\\nDelete all images in the image list {}\".format(list_id))\n",
    "client.list_management_image.delete_all_images(list_id=list_id)\n",
    "\n",
    "#\n",
    "# Delete list\n",
    "#\n",
    "print(\"\\nDelete the image list {}\".format(list_id))\n",
    "client.list_management_image_lists.delete(list_id=list_id)"
   ]
  },
  {
   "source": [
    "## Create a review"
   ],
   "cell_type": "markdown",
   "metadata": {}
  },
  {
   "cell_type": "code",
   "execution_count": 71,
   "metadata": {},
   "outputs": [],
   "source": [
    "# The name of the team to assign the job to.\n",
    "# This must be the team name you used to create your Content Moderator account. You can\n",
    "# retrieve your team name from the Review tool web site. Your team name is the Id\n",
    "# associated with your subscription.\n",
    "team_name = \"<insert your team name here>\"\n",
    "\n",
    "# An image to review\n",
    "image_url = \"https://moderatorsampleimages.blob.core.windows.net/samples/sample5.png\"\n",
    "\n",
    "# Where you want to receive the approval/refuse event. This is the only way to get this information.\n",
    "call_back_endpoint = \"https://requestb.in/qmsakwqm\""
   ]
  },
  {
   "cell_type": "code",
   "execution_count": 72,
   "metadata": {},
   "outputs": [
    {
     "output_type": "stream",
     "name": "stdout",
     "text": [
      "Create review for https://moderatorsampleimages.blob.core.windows.net/samples/sample5.png.\n",
      "\n",
      "\n",
      "Get review details\n",
      "{'callback_endpoint': 'https://southcentralus.contentmoderator.cognitive.microsoft.com/',\n",
      " 'content': 'https://moderatorsampleimages.blob.core.windows.net/samples/sample5.png',\n",
      " 'content_id': 'c9570395-1708-43f2-b386-0b6f52e51c86',\n",
      " 'created_by': 'innovaccioncontentmoderator',\n",
      " 'metadata': [{'key': 'sc', 'value': 'True'}],\n",
      " 'review_id': '202011ic4b8ebb318834eebbcefc24aa0b26480',\n",
      " 'reviewer_result_tags': [],\n",
      " 'status': 'Pending',\n",
      " 'sub_team': 'public',\n",
      " 'type': 'Image'}\n"
     ]
    }
   ],
   "source": [
    "# Create review\n",
    "print(\"Create review for {}.\\n\".format(image_url))\n",
    "review_item = {\n",
    "    \"type\": \"Image\",             # Possible values include: 'Image', 'Text'\n",
    "    \"content\": image_url,        # How to download the image\n",
    "    \"content_id\": uuid.uuid4(),  # Random id\n",
    "    \"callback_endpoint\": call_back_endpoint,\n",
    "    \"metadata\": [{\n",
    "        \"key\": \"sc\",\n",
    "        \"value\": True  # will be sent to Azure as \"str\" cast.\n",
    "    }]\n",
    "}\n",
    "\n",
    "reviews = client.reviews.create_reviews(\n",
    "    url_content_type=\"application/json\",\n",
    "    team_name=team_name,\n",
    "    create_review_body=[review_item]  # As many review item as you need\n",
    ")\n",
    "\n",
    "# Get review ID\n",
    "review_id = reviews[0]  # Ordered list of string of review ID\n",
    "\n",
    "print(\"\\nGet review details\")\n",
    "review_details = client.reviews.get_review(\n",
    "    team_name=team_name, review_id=review_id)\n",
    "pprint(review_details.as_dict())"
   ]
  },
  {
   "cell_type": "code",
   "execution_count": null,
   "metadata": {},
   "outputs": [],
   "source": []
  }
 ]
}